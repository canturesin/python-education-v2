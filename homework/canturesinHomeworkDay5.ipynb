{
 "cells": [
  {
   "cell_type": "code",
   "execution_count": 24,
   "metadata": {},
   "outputs": [
    {
     "name": "stdout",
     "output_type": "stream",
     "text": [
      "first animal is a Dog which has 4 legs and has 2 eyes\n",
      "second animal is a Cat which has 4 legs and has 2 eyes\n",
      "third animal is a Not Specified which has 8 legs and has 6 eyes\n"
     ]
    }
   ],
   "source": [
    "class Animals():\n",
    "    def __init__(self, legCount, eyeCount, species= None):        \n",
    "        self._NumberOfLegs = legCount\n",
    "        self._NumberOfEyes = eyeCount\n",
    "        if species == None:\n",
    "            self._type = \"Not Specified\"\n",
    "        else:\n",
    "            self._type = species\n",
    "            \n",
    "    def getNumberOfLegs(self):\n",
    "        return self._NumberOfLegs\n",
    "    def getNumberOfeyes(self):\n",
    "        return self._NumberOfEyes\n",
    "    def getType(self):\n",
    "        return self._type\n",
    "            \n",
    "class Dogs(Animals):\n",
    "    def __init__(self):\n",
    "        super().__init__(4, 2,\"Dog\")\n",
    "        \n",
    "class Cats(Animals):\n",
    "    def __init__(self):\n",
    "        super().__init__( 4, 2,\"Cat\")\n",
    "        \n",
    "\n",
    "animal1 = Dogs()\n",
    "animal2 = Cats()\n",
    "animal3 = Animals(8,6)\n",
    "print(\"first animal is a\", animal1.getType(),\"which has\", animal1.getNumberOfLegs(), \"legs and has\",animal1.getNumberOfeyes(),\"eyes\")\n",
    "print(\"second animal is a\", animal2.getType(),\"which has\", animal2.getNumberOfLegs(), \"legs and has\",animal2.getNumberOfeyes(),\"eyes\")\n",
    "print(\"third animal is a\", animal3.getType(),\"which has\", animal3.getNumberOfLegs(), \"legs and has\",animal3.getNumberOfeyes(),\"eyes\")"
   ]
  },
  {
   "cell_type": "code",
   "execution_count": null,
   "metadata": {},
   "outputs": [],
   "source": []
  },
  {
   "cell_type": "code",
   "execution_count": null,
   "metadata": {},
   "outputs": [],
   "source": []
  }
 ],
 "metadata": {
  "kernelspec": {
   "display_name": "Python 3",
   "language": "python",
   "name": "python3"
  },
  "language_info": {
   "codemirror_mode": {
    "name": "ipython",
    "version": 3
   },
   "file_extension": ".py",
   "mimetype": "text/x-python",
   "name": "python",
   "nbconvert_exporter": "python",
   "pygments_lexer": "ipython3",
   "version": "3.7.7"
  }
 },
 "nbformat": 4,
 "nbformat_minor": 4
}

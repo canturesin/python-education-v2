{
 "cells": [
  {
   "cell_type": "code",
   "execution_count": 14,
   "metadata": {},
   "outputs": [
    {
     "name": "stdout",
     "output_type": "stream",
     "text": [
      "Please enter your username: can\n",
      "No such username has been found, please try again: cann\n",
      "Welcome cann!\n",
      "Please enter your password: 123\n",
      "Password is incorrect, Please try again: 123\n",
      "Password is incorrect, Please try again: 12\n",
      "Password is incorrect, Please try again: cancan123\n",
      "Login successful!\n"
     ]
    }
   ],
   "source": [
    "dbUserName = \"cann\"\n",
    "dbPassWord = \"cancan123\"\n",
    "\n",
    "userName = input(\"Please enter your username: \")\n",
    "userNameExists = False\n",
    "\n",
    "while not userNameExists:\n",
    "    if dbUserName == userName:\n",
    "        userNameExists = True\n",
    "    else:\n",
    "        userName = input(\"No such username has been found, please try again: \")\n",
    "print(\"Welcome\", userName + \"!\")\n",
    "\n",
    "passWord = input(\"Please enter your password: \")\n",
    "passWordCorrect = False\n",
    "\n",
    "while not passWordCorrect:\n",
    "    if dbPassWord == passWord:\n",
    "        passWordCorrect = True\n",
    "    else: \n",
    "        passWord = input(\"Password is incorrect, Please try again: \")\n",
    "print(\"Login successful!\")"
   ]
  },
  {
   "cell_type": "code",
   "execution_count": 16,
   "metadata": {},
   "outputs": [
    {
     "name": "stdout",
     "output_type": "stream",
     "text": [
      "Please enter your username: can\n",
      "No such username has been found, please try again: ali\n",
      "Welcome ali!\n",
      "Please enter your password: ali12\n",
      "Password is incorrect, Please try again: ali123\n",
      "Login successful!\n"
     ]
    }
   ],
   "source": [
    "userDb = {\"ali\":\"ali123\",\"veli\":\"veli123\",\"aslı\":\"aslı123\"}\n",
    "userName = input(\"Please enter your username: \")\n",
    "userNameExists = False\n",
    "\n",
    "while not userNameExists:\n",
    "    if userName in userDb.keys():\n",
    "        userNameExists = True\n",
    "    else:\n",
    "        userName = input(\"No such username has been found, please try again: \")\n",
    "print(\"Welcome\", userName + \"!\")\n",
    "\n",
    "passWord = input(\"Please enter your password: \")\n",
    "passWordCorrect = False\n",
    "\n",
    "while not passWordCorrect:\n",
    "    if  userDb[userName] ==  passWord:\n",
    "        passWordCorrect = True\n",
    "    else: \n",
    "        passWord = input(\"Password is incorrect, Please try again: \")\n",
    "print(\"Login successful!\")"
   ]
  },
  {
   "cell_type": "code",
   "execution_count": null,
   "metadata": {},
   "outputs": [],
   "source": []
  }
 ],
 "metadata": {
  "kernelspec": {
   "display_name": "Python 3",
   "language": "python",
   "name": "python3"
  },
  "language_info": {
   "codemirror_mode": {
    "name": "ipython",
    "version": 3
   },
   "file_extension": ".py",
   "mimetype": "text/x-python",
   "name": "python",
   "nbconvert_exporter": "python",
   "pygments_lexer": "ipython3",
   "version": "3.7.7"
  }
 },
 "nbformat": 4,
 "nbformat_minor": 4
}

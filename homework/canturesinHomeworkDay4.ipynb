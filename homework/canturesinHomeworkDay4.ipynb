{
 "cells": [
  {
   "cell_type": "code",
   "execution_count": 1,
   "metadata": {},
   "outputs": [
    {
     "name": "stdout",
     "output_type": "stream",
     "text": [
      "[2, 3, 5, 7, 11, 13, 17, 19, 23, 29, 31, 37, 41, 43, 47, 53, 59, 61, 67, 71, 73, 79, 83, 89, 97]\n"
     ]
    }
   ],
   "source": [
    "import math\n",
    "\n",
    "def IsItPrime(n):\n",
    "    if n < 2:\n",
    "        return False\n",
    "    elif n == 2:\n",
    "        return True\n",
    "    else:\n",
    "        rangeUpperBound = math.ceil((math.sqrt(n))) + 1\n",
    "        for i in range(2, rangeUpperBound):\n",
    "            if n%i == 0:\n",
    "                return False\n",
    "        return True\n",
    "def FindPrimesUpTo100():\n",
    "    result = []\n",
    "    for number in range(2,100):        \n",
    "        if IsItPrime(number):\n",
    "            result.append(number)\n",
    "    return result\n",
    "print(FindPrimesUpTo100())"
   ]
  }
 ],
 "metadata": {
  "kernelspec": {
   "display_name": "Python 3",
   "language": "python",
   "name": "python3"
  },
  "language_info": {
   "codemirror_mode": {
    "name": "ipython",
    "version": 3
   },
   "file_extension": ".py",
   "mimetype": "text/x-python",
   "name": "python",
   "nbconvert_exporter": "python",
   "pygments_lexer": "ipython3",
   "version": "3.7.7"
  }
 },
 "nbformat": 4,
 "nbformat_minor": 4
}

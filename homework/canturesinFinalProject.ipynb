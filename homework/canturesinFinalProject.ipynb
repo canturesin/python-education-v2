{
 "cells": [
  {
   "cell_type": "code",
   "execution_count": 3,
   "metadata": {},
   "outputs": [],
   "source": [
    "class Employee():\n",
    "    def __init__(self, name, age):\n",
    "        self.name = name\n",
    "        self.age = age\n",
    "        self.languages = list()\n",
    "        \n",
    "    def addLanguage(self,lang):\n",
    "        self.languages.append(lang)\n",
    "        \n",
    "    def printAge(self):\n",
    "        print(\"I'm\",self.age, \"years old.\")\n",
    "        \n",
    "    def printName(self):\n",
    "        print(\"Hello, I'm\",self.name + \".\")\n",
    "    \n",
    "    def printLanguages(self):\n",
    "        if(len(self.languages) == 0):\n",
    "            print(self.name.capitalize(), \"doesn't know any language.\")\n",
    "            return\n",
    "\n",
    "        prntArgs = 'can speak '\n",
    "        for i in self.languages:\n",
    "            prntArgs += i\n",
    "            if(i != self.languages[-1]):\n",
    "                prntArgs += \", \"\n",
    "            else:\n",
    "                prntArgs += \".\"\n",
    "        print(self.name.capitalize(),prntArgs)\n",
    "\n",
    "class Manager(Employee):\n",
    "    def __init__(self,name, age,employees):\n",
    "        super().__init__(name, age)\n",
    "        self.employees = employees\n",
    "        \n",
    "    def printEmps(self):\n",
    "        if(len(self.employees) == 0):\n",
    "            print(self.name.capitalize(), \"supervises no one, what kind of manager is he...\")\n",
    "            return\n",
    "\n",
    "        prntArgs = 'supervises '\n",
    "        for i in self.employees:\n",
    "            prntArgs += i.name.capitalize()\n",
    "            if(i != self.employees[-1]):\n",
    "                prntArgs += \", \"\n",
    "            else:\n",
    "                prntArgs += \".\"\n",
    "        print(self.name.capitalize(),prntArgs)\n",
    "\n",
    "\n"
   ]
  },
  {
   "cell_type": "code",
   "execution_count": 34,
   "metadata": {},
   "outputs": [
    {
     "name": "stdout",
     "output_type": "stream",
     "text": [
      "Hello, I'm Sauron.\n",
      "I'm 54000 years old.\n",
      "Sauron can speak Black Speech, Elvish.\n",
      "Sauron supervises John, Nathan, Thranduil.\n",
      "Sauron's 1. employee is john, who can speak ['English', 'German']\n",
      "Sauron's 2. employee is nathan, who can speak ['English', 'Spanish']\n",
      "Sauron's 3. employee is Thranduil, who can speak ['Elvish', 'English']\n"
     ]
    }
   ],
   "source": [
    "emp1 = Employee(\"john\", 36)\n",
    "emp1.addLanguage(\"English\")\n",
    "emp1.addLanguage(\"German\")\n",
    "\n",
    "emp2 = Employee(\"nathan\", 28)\n",
    "emp2.addLanguage(\"English\")\n",
    "emp2.addLanguage(\"Spanish\")\n",
    "\n",
    "emp3 = Employee(\"Thranduil\", 6721)\n",
    "emp3.addLanguage(\"Elvish\")\n",
    "emp3.addLanguage(\"English\")\n",
    "\n",
    "empList = list()\n",
    "empList.append(emp1)\n",
    "empList.append(emp2)\n",
    "empList.append(emp3)\n",
    "\n",
    "Sauron = Manager(\"Sauron\", 54000, empList)\n",
    "Sauron.addLanguage(\"Black Speech\")\n",
    "Sauron.addLanguage(\"Elvish\")\n",
    "\n",
    "Sauron.printName()\n",
    "Sauron.printAge()\n",
    "Sauron.printLanguages()\n",
    "Sauron.printEmps()\n",
    "\n",
    "for i in Sauron.employees:\n",
    "    print(Sauron.name +\"'s\", str(Sauron.employees.index(i)+1) + \". employee is\",i.name+ \",\", \"who can speak\", i.languages)"
   ]
  },
  {
   "cell_type": "code",
   "execution_count": null,
   "metadata": {},
   "outputs": [],
   "source": []
  }
 ],
 "metadata": {
  "kernelspec": {
   "display_name": "Python 3",
   "language": "python",
   "name": "python3"
  },
  "language_info": {
   "codemirror_mode": {
    "name": "ipython",
    "version": 3
   },
   "file_extension": ".py",
   "mimetype": "text/x-python",
   "name": "python",
   "nbconvert_exporter": "python",
   "pygments_lexer": "ipython3",
   "version": "3.7.7"
  }
 },
 "nbformat": 4,
 "nbformat_minor": 4
}

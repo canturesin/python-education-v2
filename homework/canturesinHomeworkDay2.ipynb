{
 "cells": [
  {
   "cell_type": "code",
   "execution_count": 5,
   "metadata": {
    "scrolled": true
   },
   "outputs": [
    {
     "name": "stdout",
     "output_type": "stream",
     "text": [
      "List before swapping:  [2, 4, 6, 8]\n",
      "List after  swapping:  [6, 8, 2, 4]\n"
     ]
    }
   ],
   "source": [
    "listToBeSwapped = [x for x in range(1, 10) if x%2 == 0]\n",
    "\n",
    "print(\"List before swapping: \",listToBeSwapped)\n",
    "\n",
    "midIndex = len(listToBeSwapped)// 2\n",
    "\n",
    "for i in range(0, midIndex):\n",
    "    if(len(listToBeSwapped) % 2 == 0):\n",
    "        listToBeSwapped[i], listToBeSwapped[i + midIndex] = listToBeSwapped[i + midIndex],listToBeSwapped[i]\n",
    "    else:\n",
    "        listToBeSwapped[i], listToBeSwapped[i + midIndex + 1] = listToBeSwapped[i + midIndex + 1],listToBeSwapped[i]\n",
    "        \n",
    "print(\"List after  swapping: \",listToBeSwapped)\n"
   ]
  },
  {
   "cell_type": "code",
   "execution_count": 36,
   "metadata": {
    "scrolled": true
   },
   "outputs": [
    {
     "name": "stdout",
     "output_type": "stream",
     "text": [
      "Please enter a digit: 13\n",
      "The input must be a digit! 9\n",
      "[0, 2, 4, 6, 8]\n"
     ]
    }
   ],
   "source": [
    "n = int(input(\"Please enter a digit: \"))\n",
    "while n > 10 or n < 0:\n",
    "        n = int(input(\"The input must be a digit! \"))\n",
    "evenNumsUpToN = [i for i in range(0,n+1) if i%2 == 0]\n",
    "\n",
    "print(evenNumsUpToN)\n",
    "\n",
    "    "
   ]
  },
  {
   "cell_type": "code",
   "execution_count": null,
   "metadata": {},
   "outputs": [],
   "source": []
  },
  {
   "cell_type": "code",
   "execution_count": null,
   "metadata": {},
   "outputs": [],
   "source": []
  }
 ],
 "metadata": {
  "kernelspec": {
   "display_name": "Python 3",
   "language": "python",
   "name": "python3"
  },
  "language_info": {
   "codemirror_mode": {
    "name": "ipython",
    "version": 3
   },
   "file_extension": ".py",
   "mimetype": "text/x-python",
   "name": "python",
   "nbconvert_exporter": "python",
   "pygments_lexer": "ipython3",
   "version": "3.7.7"
  }
 },
 "nbformat": 4,
 "nbformat_minor": 4
}
